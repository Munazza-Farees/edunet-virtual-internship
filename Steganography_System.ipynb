{
  "nbformat": 4,
  "nbformat_minor": 0,
  "metadata": {
    "colab": {
      "provenance": [],
      "mount_file_id": "15hosLYdNhuck3f5ylVxJxE7wJdA5EyIK",
      "authorship_tag": "ABX9TyPWTW4WugLJxPbYGGYSUh6V",
      "include_colab_link": true
    },
    "kernelspec": {
      "name": "python3",
      "display_name": "Python 3"
    },
    "language_info": {
      "name": "python"
    }
  },
  "cells": [
    {
      "cell_type": "markdown",
      "metadata": {
        "id": "view-in-github",
        "colab_type": "text"
      },
      "source": [
        "<a href=\"https://colab.research.google.com/github/Munazza-Farees/edunet-virtual-internship/blob/main/Steganography_System.ipynb\" target=\"_parent\"><img src=\"https://colab.research.google.com/assets/colab-badge.svg\" alt=\"Open In Colab\"/></a>"
      ]
    },
    {
      "cell_type": "code",
      "execution_count": null,
      "metadata": {
        "colab": {
          "base_uri": "https://localhost:8080/"
        },
        "id": "_Bz2rwhMovsq",
        "outputId": "6b55f00d-cc71-4805-c284-54eaa9dc2181",
        "collapsed": true
      },
      "outputs": [
        {
          "output_type": "stream",
          "name": "stdout",
          "text": [
            "Requirement already satisfied: opencv-python in /usr/local/lib/python3.11/dist-packages (4.11.0.86)\n",
            "Requirement already satisfied: numpy in /usr/local/lib/python3.11/dist-packages (2.0.2)\n",
            "Requirement already satisfied: matplotlib in /usr/local/lib/python3.11/dist-packages (3.10.0)\n",
            "Collecting pycryptodome\n",
            "  Downloading pycryptodome-3.23.0-cp37-abi3-manylinux_2_17_x86_64.manylinux2014_x86_64.whl.metadata (3.4 kB)\n",
            "Requirement already satisfied: contourpy>=1.0.1 in /usr/local/lib/python3.11/dist-packages (from matplotlib) (1.3.2)\n",
            "Requirement already satisfied: cycler>=0.10 in /usr/local/lib/python3.11/dist-packages (from matplotlib) (0.12.1)\n",
            "Requirement already satisfied: fonttools>=4.22.0 in /usr/local/lib/python3.11/dist-packages (from matplotlib) (4.58.4)\n",
            "Requirement already satisfied: kiwisolver>=1.3.1 in /usr/local/lib/python3.11/dist-packages (from matplotlib) (1.4.8)\n",
            "Requirement already satisfied: packaging>=20.0 in /usr/local/lib/python3.11/dist-packages (from matplotlib) (24.2)\n",
            "Requirement already satisfied: pillow>=8 in /usr/local/lib/python3.11/dist-packages (from matplotlib) (11.2.1)\n",
            "Requirement already satisfied: pyparsing>=2.3.1 in /usr/local/lib/python3.11/dist-packages (from matplotlib) (3.2.3)\n",
            "Requirement already satisfied: python-dateutil>=2.7 in /usr/local/lib/python3.11/dist-packages (from matplotlib) (2.9.0.post0)\n",
            "Requirement already satisfied: six>=1.5 in /usr/local/lib/python3.11/dist-packages (from python-dateutil>=2.7->matplotlib) (1.17.0)\n",
            "Downloading pycryptodome-3.23.0-cp37-abi3-manylinux_2_17_x86_64.manylinux2014_x86_64.whl (2.3 MB)\n",
            "\u001b[2K   \u001b[90m━━━━━━━━━━━━━━━━━━━━━━━━━━━━━━━━━━━━━━━━\u001b[0m \u001b[32m2.3/2.3 MB\u001b[0m \u001b[31m24.0 MB/s\u001b[0m eta \u001b[36m0:00:00\u001b[0m\n",
            "\u001b[?25hInstalling collected packages: pycryptodome\n",
            "Successfully installed pycryptodome-3.23.0\n"
          ]
        }
      ],
      "source": [
        "# Phase 1\n",
        "!pip install opencv-python numpy matplotlib pycryptodome"
      ]
    },
    {
      "cell_type": "code",
      "source": [
        "import os\n",
        "import cv2\n",
        "import numpy as np\n",
        "from skimage.metrics import peak_signal_noise_ratio as psnr"
      ],
      "metadata": {
        "id": "U06B_TNrrC_N"
      },
      "execution_count": null,
      "outputs": []
    },
    {
      "cell_type": "code",
      "source": [
        "print(os.path.exists('/content/drive/MyDrive/CT_Medical_Images_Dataset/ID_0001_AGE_0069_CONTRAST_1_CT.png'))"
      ],
      "metadata": {
        "colab": {
          "base_uri": "https://localhost:8080/"
        },
        "id": "4A04bTxFrFY7",
        "outputId": "87d18b70-80eb-47e2-b929-f0e9a262abd1"
      },
      "execution_count": null,
      "outputs": [
        {
          "output_type": "stream",
          "name": "stdout",
          "text": [
            "True\n"
          ]
        }
      ]
    },
    {
      "cell_type": "code",
      "source": [
        "\n",
        "# Load image, embed, and evaluate\n",
        "image_path = os.path.join('/content/drive/MyDrive/CT_Medical_Images_Dataset/ID_0001_AGE_0069_CONTRAST_1_CT.png')\n",
        "cover = cv2.imread(image_path)\n",
        "message = \"Patient ID: 8359304\"\n",
        "\n",
        "\n",
        "def embed_lsb(image, message):\n",
        "  if image is None:\n",
        "    raise ValueError(\"Image is not loaded. Check the file path.\")\n",
        "\n",
        "  binary_msg = ''.join(format(ord(c), '08b') for c in message)\n",
        "\n",
        "  img_flat = image.flatten()\n",
        "  if len(binary_msg) > len(img_flat):\n",
        "    raise ValueError(\"Message is too long to embed in the image.\")\n",
        "\n",
        "  for i in range(len(binary_msg)):\n",
        "    img_flat[i] = (img_flat[i] & 0xFE) | int(binary_msg[i])\n",
        "  return img_flat.reshape(image.shape)\n",
        "\n",
        "def extract_lsb(image, msg_length):\n",
        "  if image is None:\n",
        "    raise ValueError(\"Image is not loaded. Check the file path.\")\n",
        "\n",
        "  img_flat = image.flatten()\n",
        "  bits = [img_flat[i] & 1 for i in range(msg_length * 8)]\n",
        "  return ''.join(chr(int(''.join(map(str, bits[i:i+8])), 2)) for i in range(0, len(bits), 8))\n",
        "\n",
        "# Check if the image was loaded successfully\n",
        "if cover is not None:\n",
        "  try:\n",
        "    stego = embed_lsb(cover, message)\n",
        "\n",
        "    cv2.imwrite('stego.jpg', stego)\n",
        "    extracted = extract_lsb(stego, len(message))\n",
        "\n",
        "    psnr_value = psnr(cover, stego)\n",
        "\n",
        "    print(f\"Extracted message -> {extracted}\")\n",
        "    print(f\"PSNR: {psnr_value:.2f} dB\")\n",
        "  except Exception as e:\n",
        "    print(f\"Error during processing: {e}\")\n",
        "else:\n",
        "    print(\"Error: Image could not be loaded. Please check the file path.\")"
      ],
      "metadata": {
        "id": "ygI8jp49pJlk",
        "colab": {
          "base_uri": "https://localhost:8080/"
        },
        "outputId": "2b9416f5-fd90-4744-f85d-807108228e08"
      },
      "execution_count": null,
      "outputs": [
        {
          "output_type": "stream",
          "name": "stdout",
          "text": [
            "Extracted message -> Patient ID: 8359304\n",
            "PSNR: 87.79 dB\n"
          ]
        }
      ]
    }
  ]
}